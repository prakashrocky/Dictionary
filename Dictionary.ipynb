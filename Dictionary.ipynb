{
  "nbformat": 4,
  "nbformat_minor": 0,
  "metadata": {
    "colab": {
      "provenance": []
    },
    "kernelspec": {
      "name": "python3",
      "display_name": "Python 3"
    },
    "language_info": {
      "name": "python"
    }
  },
  "cells": [
    {
      "cell_type": "code",
      "execution_count": 1,
      "metadata": {
        "colab": {
          "base_uri": "https://localhost:8080/",
          "height": 176
        },
        "id": "c9Ivc7_AI9fC",
        "outputId": "ffbd8c65-30cb-4e06-fb06-1e25dc3a4574"
      },
      "outputs": [
        {
          "output_type": "error",
          "ename": "NameError",
          "evalue": "name 'my_dict' is not defined",
          "traceback": [
            "\u001b[0;31m---------------------------------------------------------------------------\u001b[0m",
            "\u001b[0;31mNameError\u001b[0m                                 Traceback (most recent call last)",
            "\u001b[0;32m<ipython-input-1-8aa639f182cf>\u001b[0m in \u001b[0;36m<cell line: 2>\u001b[0;34m()\u001b[0m\n\u001b[1;32m      1\u001b[0m \u001b[0;31m# Access values using get method\u001b[0m\u001b[0;34m\u001b[0m\u001b[0;34m\u001b[0m\u001b[0m\n\u001b[0;32m----> 2\u001b[0;31m \u001b[0mvalue4\u001b[0m \u001b[0;34m=\u001b[0m \u001b[0mmy_dict\u001b[0m\u001b[0;34m.\u001b[0m\u001b[0mget\u001b[0m\u001b[0;34m(\u001b[0m\u001b[0;34m'key4'\u001b[0m\u001b[0;34m,\u001b[0m \u001b[0;34m'default_value'\u001b[0m\u001b[0;34m)\u001b[0m\u001b[0;34m\u001b[0m\u001b[0;34m\u001b[0m\u001b[0m\n\u001b[0m\u001b[1;32m      3\u001b[0m \u001b[0mprint\u001b[0m\u001b[0;34m(\u001b[0m\u001b[0mvalue4\u001b[0m\u001b[0;34m)\u001b[0m\u001b[0;34m\u001b[0m\u001b[0;34m\u001b[0m\u001b[0m\n",
            "\u001b[0;31mNameError\u001b[0m: name 'my_dict' is not defined"
          ]
        }
      ],
      "source": [
        "# Access values using get method\n",
        "value4 = my_dict.get('key4', 'default_value')\n",
        "print(value4)\n"
      ]
    },
    {
      "cell_type": "code",
      "source": [
        "# Create a dictionary\n",
        "my_dict = {'key1': 'value1', 'key2': 'value2'}\n",
        "\n",
        "# Add/update key-value pairs using update method\n",
        "my_dict.update({'key3': 'value3', 'key2': 'new_value2'})\n",
        "\n",
        "print(my_dict)\n"
      ],
      "metadata": {
        "colab": {
          "base_uri": "https://localhost:8080/"
        },
        "id": "uBVZYIFJJiMV",
        "outputId": "0494dcd0-3895-46bf-e323-a60fc446c822"
      },
      "execution_count": 2,
      "outputs": [
        {
          "output_type": "stream",
          "name": "stdout",
          "text": [
            "{'key1': 'value1', 'key2': 'new_value2', 'key3': 'value3'}\n"
          ]
        }
      ]
    },
    {
      "cell_type": "code",
      "source": [
        "# Create a dictionary\n",
        "my_dict = {'key1': 'value1', 'key2': 'value2', 'key3': 'value3'}\n",
        "\n",
        "# Remove a key-value pair\n",
        "del my_dict['key2']\n",
        "\n",
        "print(my_dict)\n",
        "\n",
        "# Create a dictionary\n",
        "my_dict = {'key1': 'value1', 'key2': 'value2', 'key3': 'value3'}\n",
        "\n",
        "# Remove and return the value associated with the key\n",
        "value = my_dict.pop('key2')\n",
        "\n",
        "print(my_dict)\n",
        "print(\"Removed value:\", value)\n",
        "# Remove a key that may not exist, and return a default value if it doesn't\n",
        "value = my_dict.pop('non_existing_key', 'default_value')\n",
        "\n",
        "print(\"Removed value:\", value)\n",
        "\n",
        "# Remove a key that may not exist, and return a default value if it doesn't\n",
        "value = my_dict.pop('non_existing_key', 'default_value')\n",
        "\n",
        "print(\"Removed value:\", value)\n",
        "\n"
      ],
      "metadata": {
        "colab": {
          "base_uri": "https://localhost:8080/"
        },
        "id": "tWCW5ZhNJvYl",
        "outputId": "b25eddb6-3dce-46e1-eefa-f87c7346f3ee"
      },
      "execution_count": 3,
      "outputs": [
        {
          "output_type": "stream",
          "name": "stdout",
          "text": [
            "{'key1': 'value1', 'key3': 'value3'}\n",
            "{'key1': 'value1', 'key3': 'value3'}\n",
            "Removed value: value2\n",
            "Removed value: default_value\n",
            "Removed value: default_value\n"
          ]
        }
      ]
    },
    {
      "cell_type": "code",
      "source": [
        "# Create a dictionary\n",
        "my_dict = {'key1': 'value1', 'key2': 'value2', 'key3': 'value3'}\n",
        "\n",
        "# Find the number of key-value pairs\n",
        "num_pairs = len(my_dict)\n",
        "\n",
        "print(\"Number of key-value pairs:\", num_pairs)\n"
      ],
      "metadata": {
        "colab": {
          "base_uri": "https://localhost:8080/"
        },
        "id": "WpqUjOI9KLGI",
        "outputId": "869abd15-0f10-420e-c457-1c24d9739bb2"
      },
      "execution_count": 4,
      "outputs": [
        {
          "output_type": "stream",
          "name": "stdout",
          "text": [
            "Number of key-value pairs: 3\n"
          ]
        }
      ]
    },
    {
      "cell_type": "code",
      "source": [
        "# Create a dictionary\n",
        "my_dict = {'key1': 'value1', 'key2': 'value2', 'key3': 'value3'}\n",
        "\n",
        "# Iterate over keys\n",
        "for key in my_dict.keys():\n",
        "    print(key)\n",
        "\n",
        "# Iterate over values\n",
        "for value in my_dict.values():\n",
        "    print(value)\n",
        "\n",
        "# Iterate over key-value pairs\n",
        "for key, value in my_dict.items():\n",
        "    print(key, value)\n",
        "\n",
        "# Iterate over keys (default behavior)\n",
        "for key in my_dict:\n",
        "    print(key)\n"
      ],
      "metadata": {
        "colab": {
          "base_uri": "https://localhost:8080/"
        },
        "id": "tSql73ARKd_m",
        "outputId": "91a1f44d-db48-46f0-b0a5-af4874f10b1d"
      },
      "execution_count": 6,
      "outputs": [
        {
          "output_type": "stream",
          "name": "stdout",
          "text": [
            "key1\n",
            "key2\n",
            "key3\n",
            "value1\n",
            "value2\n",
            "value3\n",
            "key1 value1\n",
            "key2 value2\n",
            "key3 value3\n",
            "key1\n",
            "key2\n",
            "key3\n"
          ]
        }
      ]
    },
    {
      "cell_type": "code",
      "source": [
        "# Create a dictionary\n",
        "my_dict = {'key1': 'value1', 'key2': 'value2', 'key3': 'value3'}\n",
        "\n",
        "# Check if a key exists\n",
        "if 'key2' in my_dict:\n",
        "    print(\"Key 'key2' exists in the dictionary\")\n",
        "else:\n",
        "    print(\"Key 'key2' does not exist in the dictionary\")\n",
        "\n",
        "\n",
        "# Check if a key exists using the get method\n",
        "value = my_dict.get('key2')\n",
        "\n",
        "if value is not None:\n",
        "    print(\"Key 'key2' exists in the dictionary\")\n",
        "else:\n",
        "    print(\"Key 'key2' does not exist in the dictionary\")\n"
      ],
      "metadata": {
        "colab": {
          "base_uri": "https://localhost:8080/"
        },
        "id": "qYX8r5nbKzR6",
        "outputId": "46e62ca7-1506-4fda-87e6-6c7191bd0395"
      },
      "execution_count": 7,
      "outputs": [
        {
          "output_type": "stream",
          "name": "stdout",
          "text": [
            "Key 'key2' exists in the dictionary\n",
            "Key 'key2' exists in the dictionary\n"
          ]
        }
      ]
    },
    {
      "cell_type": "code",
      "source": [
        "# Create a dictionary\n",
        "my_dict = {'key1': 'value1', 'key2': 'value2', 'key3': 'value3'}\n",
        "\n",
        "# Get a list of all keys\n",
        "keys_list = list(my_dict.keys())\n",
        "\n",
        "print(\"List of keys:\", keys_list)\n",
        "\n",
        "\n",
        "# Get a list of all values\n",
        "values_list = list(my_dict.values())\n",
        "\n",
        "print(\"List of values:\", values_list)\n"
      ],
      "metadata": {
        "colab": {
          "base_uri": "https://localhost:8080/"
        },
        "id": "WYPwI-VyLCC7",
        "outputId": "42fdfb2a-2c07-4557-e923-e1dd0a4006a9"
      },
      "execution_count": 8,
      "outputs": [
        {
          "output_type": "stream",
          "name": "stdout",
          "text": [
            "List of keys: ['key1', 'key2', 'key3']\n",
            "List of values: ['value1', 'value2', 'value3']\n"
          ]
        }
      ]
    },
    {
      "cell_type": "code",
      "source": [
        "# Create two dictionaries\n",
        "dict1 = {'key1': 'value1', 'key2': 'value2'}\n",
        "dict2 = {'key3': 'value3', 'key4': 'value4'}\n",
        "\n",
        "# Merge dict2 into dict1\n",
        "dict1.update(dict2)\n",
        "\n",
        "print(\"Merged dictionary:\", dict1)\n",
        "\n",
        "\n",
        "# Create two dictionaries\n",
        "dict1 = {'key1': 'value1', 'key2': 'value2'}\n",
        "dict2 = {'key3': 'value3', 'key4': 'value4'}\n",
        "\n",
        "# Merge dict2 into dict1 using dictionary unpacking\n",
        "merged_dict = {**dict1, **dict2}\n",
        "\n",
        "print(\"Merged dictionary:\", merged_dict)\n"
      ],
      "metadata": {
        "colab": {
          "base_uri": "https://localhost:8080/"
        },
        "id": "fXUOucEQLPDo",
        "outputId": "f73d538c-4c11-4fdc-f1a7-dad5eee0629b"
      },
      "execution_count": 9,
      "outputs": [
        {
          "output_type": "stream",
          "name": "stdout",
          "text": [
            "Merged dictionary: {'key1': 'value1', 'key2': 'value2', 'key3': 'value3', 'key4': 'value4'}\n",
            "Merged dictionary: {'key1': 'value1', 'key2': 'value2', 'key3': 'value3', 'key4': 'value4'}\n"
          ]
        }
      ]
    },
    {
      "cell_type": "code",
      "source": [
        "# Create a dictionary\n",
        "original_dict = {'key1': 'value1', 'key2': 'value2'}\n",
        "\n",
        "# Create a shallow copy of the dictionary\n",
        "shallow_copy = original_dict.copy()\n",
        "\n",
        "print(\"Original dictionary:\", original_dict)\n",
        "print(\"Shallow copy:\", shallow_copy)\n",
        "\n",
        "\n",
        "# Create a shallow copy of the dictionary using dictionary unpacking\n",
        "shallow_copy = {**original_dict}\n",
        "\n",
        "print(\"Original dictionary:\", original_dict)\n",
        "print(\"Shallow copy:\", shallow_copy)\n"
      ],
      "metadata": {
        "colab": {
          "base_uri": "https://localhost:8080/"
        },
        "id": "FhIQQFktLeow",
        "outputId": "d16be7aa-2782-4add-e643-f4637844062b"
      },
      "execution_count": 10,
      "outputs": [
        {
          "output_type": "stream",
          "name": "stdout",
          "text": [
            "Original dictionary: {'key1': 'value1', 'key2': 'value2'}\n",
            "Shallow copy: {'key1': 'value1', 'key2': 'value2'}\n",
            "Original dictionary: {'key1': 'value1', 'key2': 'value2'}\n",
            "Shallow copy: {'key1': 'value1', 'key2': 'value2'}\n"
          ]
        }
      ]
    }
  ]
}